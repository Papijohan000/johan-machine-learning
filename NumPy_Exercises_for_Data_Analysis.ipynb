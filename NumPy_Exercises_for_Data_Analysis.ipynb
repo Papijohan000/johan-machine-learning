{
  "nbformat": 4,
  "nbformat_minor": 0,
  "metadata": {
    "colab": {
      "provenance": [],
      "include_colab_link": true
    },
    "kernelspec": {
      "name": "python3",
      "display_name": "Python 3"
    },
    "language_info": {
      "name": "python"
    }
  },
  "cells": [
    {
      "cell_type": "markdown",
      "metadata": {
        "id": "view-in-github",
        "colab_type": "text"
      },
      "source": [
        "<a href=\"https://colab.research.google.com/github/Papijohan000/johan-machine-learning/blob/main/NumPy_Exercises_for_Data_Analysis.ipynb\" target=\"_parent\"><img src=\"https://colab.research.google.com/assets/colab-badge.svg\" alt=\"Open In Colab\"/></a>"
      ]
    },
    {
      "cell_type": "markdown",
      "source": [
        "NumPy Exercises for Data Analysis"
      ],
      "metadata": {
        "id": "hSsi2_-klame"
      }
    },
    {
      "cell_type": "code",
      "source": [
        "# Import numpy as np and see the version\n",
        "import numpy as np\n",
        "# your code here\n",
        "pass"
      ],
      "metadata": {
        "id": "kuK4TNepldem"
      },
      "execution_count": 1,
      "outputs": []
    },
    {
      "cell_type": "code",
      "source": [
        "# Create a 1D array of numbers from 0 to 9\n",
        "# your code here\n",
        "pass\n",
        "array = list (range(10))\n",
        "print(array)"
      ],
      "metadata": {
        "id": "hbYX-oMBlvS-",
        "colab": {
          "base_uri": "https://localhost:8080/"
        },
        "outputId": "f8508d7c-20c0-4bae-ac2f-b0b5184ee56a"
      },
      "execution_count": 2,
      "outputs": [
        {
          "output_type": "stream",
          "name": "stdout",
          "text": [
            "[0, 1, 2, 3, 4, 5, 6, 7, 8, 9]\n"
          ]
        }
      ]
    },
    {
      "cell_type": "code",
      "source": [
        "# Create random vector of size 10 and replace the maximum value by 0\n",
        "pass\n",
        "random_vector = np.random.rand(10)\n",
        "max_index = np.argmax(random_vector)\n",
        "random_vector[max_index] = 0\n",
        "print(random_vector)"
      ],
      "metadata": {
        "id": "HfsNmdvrwqsO",
        "colab": {
          "base_uri": "https://localhost:8080/"
        },
        "outputId": "3eccd22a-7914-4d0a-bedf-fe74ff1ff7b6"
      },
      "execution_count": 3,
      "outputs": [
        {
          "output_type": "stream",
          "name": "stdout",
          "text": [
            "[0.58999924 0.42174902 0.60198277 0.55539472 0.29551497 0.15818328\n",
            " 0.31536989 0.64432628 0.         0.1455748 ]\n"
          ]
        }
      ]
    },
    {
      "cell_type": "code",
      "source": [
        "# Print the number 8 from the array below:\n",
        "# arr = np.array([[1,2,3,4,5], [6,7,8,9,10]])\n",
        "pass\n",
        "arr = np.array([[1, 2, 3, 4, 5], [6, 7, 8, 9, 10]])\n",
        "number_8 = arr[1, 2]\n",
        "print(number_8)"
      ],
      "metadata": {
        "id": "a9T-W3uUoqcE",
        "colab": {
          "base_uri": "https://localhost:8080/"
        },
        "outputId": "8f31413b-44ad-4b6c-f458-345fc5f48b4a"
      },
      "execution_count": 4,
      "outputs": [
        {
          "output_type": "stream",
          "name": "stdout",
          "text": [
            "8\n"
          ]
        }
      ]
    },
    {
      "cell_type": "code",
      "source": [
        "# Print the numbers [3, 4, 5] from the array below:\n",
        "# arr = np.array([1,2,3,4,5,6,7])\n",
        "pass\n",
        "arr = np.array([1, 2, 3, 4, 5, 6, 7])\n",
        "subset = arr[2:5]\n",
        "print(subset)"
      ],
      "metadata": {
        "id": "PqvPijs8o2ub",
        "colab": {
          "base_uri": "https://localhost:8080/"
        },
        "outputId": "e68c20a3-1f1f-4d22-865d-19f05593752c"
      },
      "execution_count": 5,
      "outputs": [
        {
          "output_type": "stream",
          "name": "stdout",
          "text": [
            "[3 4 5]\n"
          ]
        }
      ]
    },
    {
      "cell_type": "code",
      "source": [
        "# Print the last 4 numbers from the array below:\n",
        "# arr = np.array([1,2,3,4,5,6,7])\n",
        "pass\n",
        "arr = np.array([1, 2, 3, 4, 5, 6, 7])\n",
        "last_4_numbers = arr[-4:]\n",
        "print(last_4_numbers)"
      ],
      "metadata": {
        "id": "H5iUCizHpk0L",
        "colab": {
          "base_uri": "https://localhost:8080/"
        },
        "outputId": "1ecc11e1-8654-47ce-a8ef-4769605a10c4"
      },
      "execution_count": 6,
      "outputs": [
        {
          "output_type": "stream",
          "name": "stdout",
          "text": [
            "[4 5 6 7]\n"
          ]
        }
      ]
    },
    {
      "cell_type": "code",
      "source": [
        "# Create a 3×3 numpy array of all True’s\n",
        "# your code here\n",
        "pass\n",
        "true_array = np.ones((3, 3), dtype=bool)\n",
        "print(true_array)"
      ],
      "metadata": {
        "id": "C9nBztXhl9NA",
        "colab": {
          "base_uri": "https://localhost:8080/"
        },
        "outputId": "29312941-f2a5-418e-90f6-e0d424d7682f"
      },
      "execution_count": 10,
      "outputs": [
        {
          "output_type": "stream",
          "name": "stdout",
          "text": [
            "[[ True  True  True]\n",
            " [ True  True  True]\n",
            " [ True  True  True]]\n"
          ]
        }
      ]
    },
    {
      "cell_type": "code",
      "source": [
        "# Extract all odd numbers from arr\n",
        "# your code here\n",
        "pass\n",
        "arr = np.array([1, 2, 3, 4, 5, 6, 7, 8, 9])\n",
        "odd_numbers = arr[arr % 2 != 0]\n",
        "print( odd_numbers)\n"
      ],
      "metadata": {
        "id": "W18lqbBwmIhw",
        "colab": {
          "base_uri": "https://localhost:8080/"
        },
        "outputId": "ffe6c5ba-5889-4436-e9d5-3771095ce168"
      },
      "execution_count": 12,
      "outputs": [
        {
          "output_type": "stream",
          "name": "stdout",
          "text": [
            "[1 3 5 7 9]\n"
          ]
        }
      ]
    },
    {
      "cell_type": "code",
      "source": [
        "# Create a vector with values ranging from 10 to 49 (★☆☆)\n",
        "pass\n",
        "vector = np.arange(10, 50)\n",
        "print(vector)"
      ],
      "metadata": {
        "id": "hA9iXCAwr55v",
        "colab": {
          "base_uri": "https://localhost:8080/"
        },
        "outputId": "4310a71f-e0a4-4847-d2d1-ba1c2c154f22"
      },
      "execution_count": 13,
      "outputs": [
        {
          "output_type": "stream",
          "name": "stdout",
          "text": [
            "[10 11 12 13 14 15 16 17 18 19 20 21 22 23 24 25 26 27 28 29 30 31 32 33\n",
            " 34 35 36 37 38 39 40 41 42 43 44 45 46 47 48 49]\n"
          ]
        }
      ]
    },
    {
      "cell_type": "code",
      "source": [
        "# Reverse a vector (first element becomes last)\n",
        "pass\n",
        "vector = np.array([1, 2, 3, 4, 5])\n",
        "reversed_vector = vector[::-1]\n",
        "print( vector)\n",
        "print(reversed_vector)"
      ],
      "metadata": {
        "id": "R-_IjeHyr83q",
        "colab": {
          "base_uri": "https://localhost:8080/"
        },
        "outputId": "debb4ba3-cd27-4021-da9d-2650d99d1e0a"
      },
      "execution_count": 14,
      "outputs": [
        {
          "output_type": "stream",
          "name": "stdout",
          "text": [
            "[1 2 3 4 5]\n",
            "[5 4 3 2 1]\n"
          ]
        }
      ]
    },
    {
      "cell_type": "code",
      "source": [
        "#  Create a 10x10 array with random integer values and find the minimum and maximum values\n",
        "pass\n",
        "min_value = 1\n",
        "max_value = 100\n",
        "random_array = np.random.randint(min_value, max_value, size=(10, 10))\n",
        "minimum_value = np.min(random_array)\n",
        "maximum_value = np.max(random_array)\n",
        "print(random_array)\n",
        "print( minimum_value)\n",
        "print( maximum_value)"
      ],
      "metadata": {
        "id": "rEWwl_weuq3B",
        "colab": {
          "base_uri": "https://localhost:8080/"
        },
        "outputId": "53816d75-68b8-4678-b123-e05b315dcefd"
      },
      "execution_count": 15,
      "outputs": [
        {
          "output_type": "stream",
          "name": "stdout",
          "text": [
            "[[37 54 65 13 40 85 10 33 53 61]\n",
            " [ 3  8 93 95 31 96 63 71 11 69]\n",
            " [24 63 47 26 48 94 32 89 30  9]\n",
            " [20 57 40 82 95 33 79 49 34 20]\n",
            " [66 55 54 21 67 94 63  1 98 60]\n",
            " [59 91 88 90  3 76 23  4 45  4]\n",
            " [55  9 46 15 95 72 81 57 15 45]\n",
            " [76 88 50 31 39 23  7 32 59  2]\n",
            " [42 60 94 64 29 52 75 24 65 93]\n",
            " [88 56 41 51 73  7 15 26 49 12]]\n",
            "1\n",
            "98\n"
          ]
        }
      ]
    },
    {
      "cell_type": "code",
      "source": [
        "# Create a 3x3x3 array with random values\n",
        "pass\n",
        "random_array = np.random.rand(3, 3, 3)\n",
        "\n",
        "print(random_array)"
      ],
      "metadata": {
        "id": "KFy17KsvvSql",
        "colab": {
          "base_uri": "https://localhost:8080/"
        },
        "outputId": "cc1d4347-ed4d-440d-e113-206d9bcfcf53"
      },
      "execution_count": 17,
      "outputs": [
        {
          "output_type": "stream",
          "name": "stdout",
          "text": [
            "[[[0.72413634 0.39167499 0.02193588]\n",
            "  [0.44332661 0.84556528 0.74943622]\n",
            "  [0.11779252 0.27566047 0.30430923]]\n",
            "\n",
            " [[0.40977211 0.01899729 0.80270709]\n",
            "  [0.79930232 0.11609956 0.30508029]\n",
            "  [0.76469958 0.22514317 0.05050982]]\n",
            "\n",
            " [[0.96628332 0.53011608 0.05227346]\n",
            "  [0.07409726 0.70181959 0.28541422]\n",
            "  [0.92814232 0.7934397  0.91457132]]]\n"
          ]
        }
      ]
    },
    {
      "cell_type": "code",
      "source": [
        "# Replace all odd numbers in arr with -1\n",
        "# your code here\n",
        "pass\n",
        "arr = np.array([1, 2, 3, 4, 5, 6, 7, 8, 9])\n",
        "arr[arr % 2 != 0] = -1\n",
        "print(arr)"
      ],
      "metadata": {
        "id": "X7ol3alqmbNa",
        "colab": {
          "base_uri": "https://localhost:8080/"
        },
        "outputId": "badf2d08-03f1-4306-da13-73639ad00566"
      },
      "execution_count": 18,
      "outputs": [
        {
          "output_type": "stream",
          "name": "stdout",
          "text": [
            "[-1  2 -1  4 -1  6 -1  8 -1]\n"
          ]
        }
      ]
    },
    {
      "cell_type": "code",
      "source": [
        "# Create an array of type float\n",
        "pass\n",
        "float_array = np.array([1.0, 2.5, 3.7, 4.2], dtype=float)\n",
        "print(float_array)\n"
      ],
      "metadata": {
        "id": "GwdXYn9HqYTL",
        "colab": {
          "base_uri": "https://localhost:8080/"
        },
        "outputId": "1d394f92-0d6d-499e-b98e-2fffb38e02fe"
      },
      "execution_count": 19,
      "outputs": [
        {
          "output_type": "stream",
          "name": "stdout",
          "text": [
            "[1.  2.5 3.7 4.2]\n"
          ]
        }
      ]
    },
    {
      "cell_type": "code",
      "source": [
        "# Convert a 1D array to a 2D array with 2 rows\n",
        "# your code here\n",
        "pass\n",
        "original_array = np.array([1, 2, 3, 4, 5, 6, 7, 8, 9, 10])\n",
        "new_2d_array = original_array.reshape(2, -1)\n",
        "print(original_array)\n",
        "print(new_2d_array)"
      ],
      "metadata": {
        "id": "LvcL1lUYoPjN",
        "colab": {
          "base_uri": "https://localhost:8080/"
        },
        "outputId": "f05b0c96-6f46-4119-9e07-090b2494e382"
      },
      "execution_count": 20,
      "outputs": [
        {
          "output_type": "stream",
          "name": "stdout",
          "text": [
            "[ 1  2  3  4  5  6  7  8  9 10]\n",
            "[[ 1  2  3  4  5]\n",
            " [ 6  7  8  9 10]]\n"
          ]
        }
      ]
    },
    {
      "cell_type": "code",
      "source": [
        "# How to find common values between two arrays?\n",
        "\n",
        "# Z1 = np.random.randint(0,10,10)\n",
        "# Z2 = np.random.randint(0,10,10)\n",
        "pass\n",
        "Z1 = np.random.randint(0, 10, 10)\n",
        "Z2 = np.random.randint(0, 10, 10)\n",
        "print( Z1)\n",
        "print( Z2)\n"
      ],
      "metadata": {
        "id": "VbzMDKQvv0DX",
        "colab": {
          "base_uri": "https://localhost:8080/"
        },
        "outputId": "a39fc729-06ce-443d-f637-0a4992501ea4"
      },
      "execution_count": 22,
      "outputs": [
        {
          "output_type": "stream",
          "name": "stdout",
          "text": [
            "[8 1 8 9 1 6 0 7 8 6]\n",
            "[9 3 4 0 5 6 3 3 0 0]\n"
          ]
        }
      ]
    },
    {
      "cell_type": "code",
      "source": [
        "#  Consider two random array A and B, check if they are equal\n",
        "\n",
        "\n",
        "A = np.random.randint(0,2,5)\n",
        "B = np.random.randint(0,2,5)\n",
        "are_equal = np.array_equal(A, B)\n",
        "if are_equal:\n",
        "    print(A)\n",
        "else:\n",
        "    print(B)\n",
        "\n",
        "pass"
      ],
      "metadata": {
        "id": "RWWspnDAwWGV",
        "colab": {
          "base_uri": "https://localhost:8080/"
        },
        "outputId": "18b0f604-ac19-4705-9229-1615b2c12c3b"
      },
      "execution_count": 23,
      "outputs": [
        {
          "output_type": "stream",
          "name": "stdout",
          "text": [
            "[1 0 1 1 1]\n"
          ]
        }
      ]
    },
    {
      "cell_type": "code",
      "source": [
        "# Stack arrays a and b vertically\n",
        "# your code here\n",
        "pass\n",
        "a = np.array([1, 2, 3])\n",
        "b = np.array([4, 5, 6])\n",
        "\n",
        "stacked_arrays = np.vstack((a, b))\n",
        "print(stacked_arrays)"
      ],
      "metadata": {
        "id": "SW3KvPXhoeie",
        "colab": {
          "base_uri": "https://localhost:8080/"
        },
        "outputId": "27eec916-8974-4964-9609-8017ef646175"
      },
      "execution_count": 24,
      "outputs": [
        {
          "output_type": "stream",
          "name": "stdout",
          "text": [
            "[[1 2 3]\n",
            " [4 5 6]]\n"
          ]
        }
      ]
    },
    {
      "cell_type": "code",
      "source": [
        "# Stack the arrays a and b horizontally.\n",
        "# your code here\n",
        "pass\n",
        "a = np.array([1, 2, 3])\n",
        "b = np.array([4, 5, 6])\n",
        "stacked_arrays = np.hstack((a, b))\n",
        "print(stacked_arrays)"
      ],
      "metadata": {
        "id": "6wVOpIT9omwe",
        "colab": {
          "base_uri": "https://localhost:8080/"
        },
        "outputId": "0df82260-6ca9-405c-ae0c-116a85003bc5"
      },
      "execution_count": 25,
      "outputs": [
        {
          "output_type": "stream",
          "name": "stdout",
          "text": [
            "[1 2 3 4 5 6]\n"
          ]
        }
      ]
    },
    {
      "cell_type": "code",
      "source": [
        "# Get all items between 5 and 10 from array tmp.\n",
        "# your code here\n",
        "import numpy as np\n",
        "tmp = np.arange(15)\n",
        "# pass\n",
        "tmp = np.array([2, 4, 6, 8, 10, 12, 14, 16])\n",
        "items_between_5_and_10 = tmp[(tmp >= 5) & (tmp <= 10)]"
      ],
      "metadata": {
        "id": "L_7vMkGOo0gX"
      },
      "execution_count": null,
      "outputs": []
    },
    {
      "cell_type": "code",
      "source": [
        "# How to make a python function that handles scalars to work on numpy arrays?\n",
        "# Hint\n",
        "# Desired Output:\n",
        "# a = np.array([5, 7, 9, 8, 6, 4, 5])\n",
        "# b = np.array([6, 3, 4, 8, 9, 7, 1])\n",
        "# pair_max(a, b)\n",
        "# #> array([ 6.,  7.,  9.,  8.,  9.,  7.,  5.])\n",
        "\n",
        "\n",
        "# your code here\n",
        "import numpy as np\n",
        "\n",
        "def maxx(x, y):\n",
        "    \"\"\"Get the maximum of two items\"\"\"\n",
        "    if x >= y:\n",
        "        return x\n",
        "    else:\n",
        "        return y\n",
        "\n",
        "maxx(1, 5)\n"
      ],
      "metadata": {
        "colab": {
          "base_uri": "https://localhost:8080/"
        },
        "id": "FVZz6ZY0p9ya",
        "outputId": "fa144712-5742-41a1-d3dc-0c3f1645a25e"
      },
      "execution_count": null,
      "outputs": [
        {
          "output_type": "execute_result",
          "data": {
            "text/plain": [
              "5"
            ]
          },
          "metadata": {},
          "execution_count": 30
        }
      ]
    },
    {
      "cell_type": "code",
      "source": [
        "# Swap columns 1 and 2 in the array arr.\n",
        "# Hint\n",
        "# Desired Output:\n",
        "# [[0 2 1]\n",
        "#  [3 5 4]\n",
        "#  [6 8 7]]\n",
        "\n",
        "\n",
        "arr = np.arange(9).reshape(3,3)\n",
        "print(arr)\n",
        "# your code here\n",
        "pass\n"
      ],
      "metadata": {
        "colab": {
          "base_uri": "https://localhost:8080/"
        },
        "outputId": "1ec17454-2c78-4355-98d8-241a84a4ff76",
        "id": "8vIzM5e8ql6i"
      },
      "execution_count": null,
      "outputs": [
        {
          "output_type": "stream",
          "name": "stdout",
          "text": [
            "[[0 1 2]\n",
            " [3 4 5]\n",
            " [6 7 8]]\n"
          ]
        }
      ]
    },
    {
      "cell_type": "code",
      "source": [
        "# Create a 2D array of shape 5x3 to contain random decimal numbers between 5 and 10.\n",
        "# Hint\n",
        "# The desired Output should be like the following one:\n",
        "#  [[ 8.50061025  9.10531502  6.85867783]\n",
        "#   [ 9.76262069  9.87717411  7.13466701]\n",
        "#   [ 7.48966403  8.33409158  6.16808631]\n",
        "#   [ 7.75010551  9.94535696  5.27373226]\n",
        "#   [ 8.0850361   5.56165518  7.31244004]]"
      ],
      "metadata": {
        "id": "FOXX5b17rY7E"
      },
      "execution_count": null,
      "outputs": []
    }
  ]
}